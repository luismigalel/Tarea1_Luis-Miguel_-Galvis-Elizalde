{
 "cells": [
  {
   "cell_type": "code",
   "execution_count": 32,
   "metadata": {},
   "outputs": [],
   "source": [
    "import matplotlib.pyplot as plot\n",
    "import numpy as np"
   ]
  },
  {
   "cell_type": "markdown",
   "metadata": {},
   "source": [
    " 1)\n",
    "A continuacion crearemos una función que nos permita calcular el factorial."
   ]
  },
  {
   "cell_type": "code",
   "execution_count": 3,
   "metadata": {},
   "outputs": [],
   "source": [
    "def Factorial(x):\n",
    "    if x<0:\n",
    "        return \"error\"  \n",
    "    elif x==0:\n",
    "        return 1 #Por definición el factorial de cero es 1.\n",
    "    else:\n",
    "        producto=1\n",
    "        for i in range(1, x+1):\n",
    "            producto=producto*i\n",
    "    return producto"
   ]
  },
  {
   "cell_type": "markdown",
   "metadata": {},
   "source": [
    "2) Ahora vamos a crear la función para los coeficientes binomiales."
   ]
  },
  {
   "cell_type": "code",
   "execution_count": 4,
   "metadata": {},
   "outputs": [],
   "source": [
    "def Binomial(n, k):\n",
    "    return (Factorial(n))/((Factorial(k))*(Factorial(n-k)))"
   ]
  },
  {
   "cell_type": "markdown",
   "metadata": {},
   "source": [
    "3) Definimos la función que nos entregara el triangulo de Pascal en un archivo .txt"
   ]
  },
  {
   "cell_type": "markdown",
   "metadata": {},
   "source": [
    "En primera instancia se debe ampliar el número de iteraciones para funciones que tiene mi pc pues tiene problemas con ello."
   ]
  },
  {
   "cell_type": "code",
   "execution_count": 9,
   "metadata": {},
   "outputs": [
    {
     "name": "stdout",
     "output_type": "stream",
     "text": [
      "5000\n"
     ]
    }
   ],
   "source": [
    "import sys\n",
    "print(sys.getrecursionlimit())\n",
    "\n",
    "\n",
    "sys.setrecursionlimit(5000)"
   ]
  },
  {
   "cell_type": "code",
   "execution_count": 33,
   "metadata": {},
   "outputs": [],
   "source": [
    "def Pascal(n):\n",
    "    pascal=open(\"Pascal-%i.txt\"%n,\"w\") #El nombre del archivo esta supeditado al n.\n",
    "    i=0\n",
    "    a=1\n",
    "    for t in range(n):\n",
    "        if t+1==10**a:\n",
    "            pascal.write(\"n=%i\"%(t+1))\n",
    "            pascal.write(\" \"*(n-i+5-a))\n",
    "            a+=1\n",
    "            i+=1\n",
    "        else:\n",
    "            pascal.write(\"n=%i\"%(t+1))\n",
    "            pascal.write(\" \"*(n-1+5))\n",
    "        for j in range(t+1):\n",
    "            pascal.write(str(Binomial(t,j)))\n",
    "            pascal.write(\" \")\n",
    "                \n",
    "        i=+1\n",
    "        pascal.write(\"\\n\")   #Pasamos a la liguiente fila.\n",
    "    \n",
    "    pascal.close"
   ]
  }
 ],
 "metadata": {
  "kernelspec": {
   "display_name": "Python 3",
   "language": "python",
   "name": "python3"
  },
  "language_info": {
   "codemirror_mode": {
    "name": "ipython",
    "version": 3
   },
   "file_extension": ".py",
   "mimetype": "text/x-python",
   "name": "python",
   "nbconvert_exporter": "python",
   "pygments_lexer": "ipython3",
   "version": "3.7.4"
  }
 },
 "nbformat": 4,
 "nbformat_minor": 2
}
